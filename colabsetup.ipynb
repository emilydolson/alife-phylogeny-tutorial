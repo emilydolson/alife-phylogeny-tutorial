{
 "cells": [
  {
   "cell_type": "code",
   "execution_count": null,
   "id": "f180fff5",
   "metadata": {},
   "outputs": [],
   "source": [
    "# !find . -name . -o -prune -exec rm -rf -- {} +\n",
    "!git init\n",
    "!git remote add origin https://github.com/emilydolson/alife-phylogeny-tutorial.git\n",
    "!git pull origin main\n",
    "!python3 -m pip install -r requirements.txt"
   ]
  }
 ],
 "metadata": {
  "kernelspec": {
   "display_name": "Python 3",
   "language": "python",
   "name": "python3"
  },
  "language_info": {
   "codemirror_mode": {
    "name": "ipython",
    "version": 3
   },
   "file_extension": ".py",
   "mimetype": "text/x-python",
   "name": "python",
   "nbconvert_exporter": "python",
   "pygments_lexer": "ipython3",
   "version": "3.10.6"
  }
 },
 "nbformat": 4,
 "nbformat_minor": 5
}
