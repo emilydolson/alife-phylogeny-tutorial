{
  "cells": [
    {
      "cell_type": "markdown",
      "metadata": {
        "id": "view-in-github",
        "colab_type": "text"
      },
      "source": [
        "<a href=\"https://colab.research.google.com/github/emilydolson/alife-phylogeny-tutorial/blob/main/perfect_tracking.ipynb\" target=\"_parent\"><img src=\"https://colab.research.google.com/assets/colab-badge.svg\" alt=\"Open In Colab\"/></a>"
      ]
    },
    {
      "cell_type": "markdown",
      "source": [
        "# Setup\n",
        "\n",
        "We need to start out by installing some python packages"
      ],
      "metadata": {
        "id": "xBorIAqzomCU"
      },
      "id": "xBorIAqzomCU"
    },
    {
      "cell_type": "code",
      "execution_count": null,
      "id": "f180fff5",
      "metadata": {
        "id": "f180fff5"
      },
      "outputs": [],
      "source": [
        "# !find . -name . -o -prune -exec rm -rf -- {} +\n",
        "!git init\n",
        "!git remote add origin https://github.com/emilydolson/alife-phylogeny-tutorial.git\n",
        "!git pull origin main\n",
        "!python3 -m pip install -r requirements.txt"
      ]
    },
    {
      "cell_type": "markdown",
      "source": [
        "# Basics of Phylotrackpy\n",
        "\n",
        "Let's start out by making a simply systematics manager and adding a few taxa to it. We'll imagine this is a world where we're evolving strings, and we want each unique string to be its own taxon (i.e. node in the phylogeny)."
      ],
      "metadata": {
        "id": "wHHDW85Ro7Ne"
      },
      "id": "wHHDW85Ro7Ne"
    },
    {
      "cell_type": "code",
      "source": [
        "import phylotrackpy.systematics as phylo\n",
        "\n",
        "# Make a systematics manager object\n",
        "# The information that determines the taxa is literally just the organism,\n",
        "# so we pass the constructor a simple lambda that returns whatever it is given\n",
        "# The Trues and Falses say it should keep track of extant taxa and their ancestors\n",
        "# but not taxa from extinct lineages (i.e. it should do pruning)\n",
        "# Also, it will not store positions, so the user is responsible for keeping\n",
        "# track of pointers to taxa.\n",
        "example_sys = phylo.Systematics(lambda x: x, True, True, False, False)\n",
        "\n",
        "# The systematics manager starts out empty\n",
        "print(example_sys.get_num_taxa())"
      ],
      "metadata": {
        "colab": {
          "base_uri": "https://localhost:8080/"
        },
        "id": "Huf2LcoIo_tr",
        "outputId": "060da7a9-2788-4e9f-c70d-893b79f3eb84"
      },
      "id": "Huf2LcoIo_tr",
      "execution_count": 1,
      "outputs": [
        {
          "output_type": "stream",
          "name": "stdout",
          "text": [
            "0\n"
          ]
        }
      ]
    },
    {
      "cell_type": "markdown",
      "source": [
        "Now let's try manually adding some organisms"
      ],
      "metadata": {
        "id": "sGnVKjeNqzOi"
      },
      "id": "sGnVKjeNqzOi"
    },
    {
      "cell_type": "code",
      "source": [
        "# Add an organism that is the string \"hello\"\n",
        "taxon1 = example_sys.add_org(\"hello\")\n",
        "# Now the systematics manager has a taxon in it\n",
        "print(\"Number of taxa after adding org 1:\", example_sys.get_num_taxa())\n",
        "\n",
        "# Tell example_sys that taxon1 gave birth to the string \"world\"\n",
        "taxon2 = example_sys.add_org(\"world\", taxon1)\n",
        "# Now the systematics manager has 2 taxa in it\n",
        "print(\"Number of taxa after adding org 2:\", example_sys.get_num_taxa())\n",
        "\n",
        "# Tell example_sys that taxon2 gave birth to an organism identical to itself\n",
        "taxon3 = example_sys.add_org(\"world\", taxon2)\n",
        "# The systematics manager still has 2 taxa in it, because this new org\n",
        "# was added to the same taxon\n",
        "print(\"Number of taxa after adding org 2:\", example_sys.get_num_taxa())\n",
        "print(\"Number of individuals in taxon 2: \", taxon2.get_num_orgs())\n",
        "\n",
        "# NOTE: taxon2 and taxon3 are pointers to the same object!\n",
        "# We can confirm this by printing their IDs\n",
        "print(\"taxon2 ID:\", taxon2.get_id())\n",
        "print(\"taxon3 ID:\", taxon3.get_id())\n",
        "\n",
        "# Let's make two more taxa\n",
        "taxon4 = example_sys.add_org(\"jello\", taxon1)\n",
        "taxon5 = example_sys.add_org(\"jelly\", taxon4)\n",
        "print(\"Number of taxa after adding org 5:\", example_sys.get_num_taxa())\n"
      ],
      "metadata": {
        "colab": {
          "base_uri": "https://localhost:8080/"
        },
        "id": "rNrVqqexrVVV",
        "outputId": "4ddb3326-5836-4b02-a8de-5b9e828a9dff"
      },
      "id": "rNrVqqexrVVV",
      "execution_count": 2,
      "outputs": [
        {
          "output_type": "stream",
          "name": "stdout",
          "text": [
            "Number of taxa after adding org 1: 1\n",
            "Number of taxa after adding org 2: 2\n",
            "Number of taxa after adding org 2: 2\n",
            "Number of individuals in taxon 2:  2\n",
            "taxon2 ID: 2\n",
            "taxon3 ID: 2\n",
            "Number of taxa after adding org 5: 4\n"
          ]
        }
      ]
    },
    {
      "cell_type": "markdown",
      "source": [
        "The phylogeny now looks like this:\n",
        "\n",
        "![graph(9).png](data:image/png;base64,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)"
      ],
      "metadata": {
        "id": "8gjJrCzDvV7J"
      },
      "id": "8gjJrCzDvV7J"
    },
    {
      "cell_type": "markdown",
      "source": [
        "What hapens if we try deleting organisms?"
      ],
      "metadata": {
        "id": "Jw1dpk601I86"
      },
      "id": "Jw1dpk601I86"
    },
    {
      "cell_type": "code",
      "source": [
        "example_sys.remove_org(taxon4)\n",
        "\n",
        "# The \"jello\" taxon is now gone\n",
        "print(\"Number of taxa after removing jello:\", example_sys.get_num_taxa())\n",
        "# Why is it still 4 taxa? Because jello had an offspring taxon (jelly), so its\n",
        "# still included in the phylogeny as an ancestor\n",
        "# We can see this if we count the active and ancestor taxa separately\n",
        "print(\"Number of active taxa after removing jello:\", example_sys.get_num_active())\n",
        "print(\"Number of ancestor taxa after removing jello\", example_sys.get_num_ancestors())\n",
        "\n",
        "# Removing one org from taxon2 won't make that taxon extinct, because\n",
        "# there are two of them\n",
        "example_sys.remove_org(taxon2)\n",
        "# There are still 4 taxa\n",
        "print(\"Number of taxa after removing world once:\", example_sys.get_num_taxa())\n",
        "# taxon2 now only has one org, though\n",
        "print(\"Number of orgs in taxon2:\", taxon2.get_num_orgs())\n",
        "\n",
        "# Lets try removing jelly too\n",
        "example_sys.remove_org(taxon5)\n",
        "# Now there are only 2 taxa in the tree, because the jello -> jelly lineage was\n",
        "# pruned out due to being extinct\n",
        "print(\"Number of taxa after removing jelly:\", example_sys.get_num_taxa())"
      ],
      "metadata": {
        "colab": {
          "base_uri": "https://localhost:8080/"
        },
        "id": "uBewiZ3FvA0q",
        "outputId": "ae610719-152c-497d-a022-9cfd773a7cc9"
      },
      "id": "uBewiZ3FvA0q",
      "execution_count": 3,
      "outputs": [
        {
          "output_type": "stream",
          "name": "stdout",
          "text": [
            "Number of taxa after removing jello: 4\n",
            "Number of active taxa after removing jello: 3\n",
            "Number of ancestor taxa after removing jello 1\n",
            "Number of taxa after removing world once: 4\n",
            "Number of orgs in taxon2: 1\n",
            "Number of taxa after removing jelly: 2\n"
          ]
        }
      ]
    },
    {
      "cell_type": "markdown",
      "source": [
        "# Incorporating phylotrackpy into existing code\n",
        "\n",
        "Phylotrackpy is designed to easily plug in to existing codebases. Let's return to the DEAP example from before. Imagine that we want to use Phylotrackpy instead of the built in History class (perhaps we are't using crossover and need to use pruning). How would we need to change our code to make that work?\n",
        "\n",
        "Note: I suspect the DEAP-style way to do this would be to use decorators like the History class does. For simplicity, here we will do it the longer and slightly more straighforward way."
      ],
      "metadata": {
        "id": "qG-I01_k--jL"
      },
      "id": "qG-I01_k--jL"
    },
    {
      "cell_type": "code",
      "source": [
        "import random\n",
        "\n",
        "from deap import base\n",
        "from deap import creator\n",
        "from deap import tools\n",
        "\n",
        "import phylotrackpy.systematics as phylo\n",
        "\n",
        "creator.create(\"FitnessMax\", base.Fitness, weights=(1.0,))\n",
        "creator.create(\"Individual\", list, fitness=creator.FitnessMax)\n",
        "\n",
        "toolbox = base.Toolbox()\n",
        "\n",
        "# Attribute generator:\n",
        "#   define 'attr_bool' to be an attribute ('gene')\n",
        "#   which corresponds to integers sampled uniformly\n",
        "#   from the range [0,1] (i.e. 0 or 1 with equal\n",
        "#   probability)\n",
        "toolbox.register(\"attr_bool\", random.randint, 0, 1)\n",
        "\n",
        "# Structure initializers:\n",
        "#   define 'individual' to be an individual\n",
        "#   consisting of 100 'attr_bool' elements ('genes')\n",
        "toolbox.register(\"individual\", tools.initRepeat, creator.Individual,\n",
        "    toolbox.attr_bool, 10)\n",
        "\n",
        "# define the population to be a list of individuals\n",
        "toolbox.register(\"population\", tools.initRepeat, list, toolbox.individual)\n",
        "\n",
        "# the goal ('fitness') function to be maximized\n",
        "def evalOneMax(individual):\n",
        "    return sum(individual),\n",
        "\n",
        "#----------\n",
        "# Operator registration\n",
        "#----------\n",
        "# register the goal / fitness function\n",
        "toolbox.register(\"evaluate\", evalOneMax)\n",
        "\n",
        "# register the crossover operator\n",
        "toolbox.register(\"mate\", tools.cxTwoPoint)\n",
        "\n",
        "# register a mutation operator with a probability to\n",
        "# flip each attribute/gene of 0.05\n",
        "toolbox.register(\"mutate\", tools.mutFlipBit, indpb=0.05)\n",
        "\n",
        "# operator for selecting individuals for breeding the next\n",
        "# generation: each individual of the current generation\n",
        "# is replaced by the 'fittest' (best) of three individuals\n",
        "# drawn randomly from the current generation.\n",
        "toolbox.register(\"select\", tools.selTournament, tournsize=3)\n",
        "\n",
        "#----------\n",
        "\n",
        "#----------\n",
        "# Phylogeny set-up\n",
        "#----------\n",
        "\n",
        "sys = phylo.Systematics(lambda x: str(x), True, True, False, False)\n",
        "sys.add_snapshot_fun(lambda tax: str(tax.get_info()).replace(\",\",\"\"), \"Genome\", \"The taxon's genome\")\n",
        "\n",
        "def evolve():\n",
        "    random.seed(64)\n",
        "\n",
        "    # create an initial population of 300 individuals (where\n",
        "    # each individual is a list of integers)\n",
        "    pop = toolbox.population(n=5)\n",
        "\n",
        "    sys.set_update(0)\n",
        "\n",
        "    # Notify phylogeny of initial population members\n",
        "    for ind in pop:\n",
        "      tax = sys.add_org(ind)\n",
        "      ind.taxon = tax\n",
        "\n",
        "    # MUTPB is the probability for mutating an individual\n",
        "    MUTPB = 0.5\n",
        "\n",
        "    print(\"Start of evolution\")\n",
        "\n",
        "    # Evaluate the entire population\n",
        "    fitnesses = list(map(toolbox.evaluate, pop))\n",
        "    for ind, fit in zip(pop, fitnesses):\n",
        "        ind.fitness.values = fit\n",
        "\n",
        "    print(\"  Evaluated %i individuals\" % len(pop))\n",
        "\n",
        "    # Extracting all the fitnesses of\n",
        "    fits = [ind.fitness.values[0] for ind in pop]\n",
        "\n",
        "    # Variable keeping track of the number of generations\n",
        "    g = 0\n",
        "\n",
        "    # Begin the evolution\n",
        "    while max(fits) < 100 and g < 100:\n",
        "\n",
        "        # A new generation\n",
        "        g = g + 1\n",
        "        print(\"-- Generation %i --\" % g)\n",
        "\n",
        "        sys.set_update(g)\n",
        "\n",
        "        # Select the next generation individuals\n",
        "        offspring = toolbox.select(pop, len(pop))\n",
        "        # Clone the selected individuals\n",
        "        offspring = list(map(toolbox.clone, offspring))\n",
        "\n",
        "        for mutant in offspring:\n",
        "\n",
        "            # mutate an individual with probability MUTPB\n",
        "            if random.random() < MUTPB:\n",
        "                toolbox.mutate(mutant)\n",
        "                del mutant.fitness.values\n",
        "\n",
        "            mutant.taxon = sys.add_org(mutant, mutant.taxon)\n",
        "\n",
        "        # Evaluate the individuals with an invalid fitness\n",
        "        invalid_ind = [ind for ind in offspring if not ind.fitness.valid]\n",
        "        fitnesses = map(toolbox.evaluate, invalid_ind)\n",
        "        for ind, fit in zip(invalid_ind, fitnesses):\n",
        "            ind.fitness.values = fit\n",
        "\n",
        "        for ind in pop:\n",
        "          sys.remove_org(ind.taxon)\n",
        "\n",
        "        print(\"  Evaluated %i individuals\" % len(invalid_ind))\n",
        "\n",
        "        # The population is entirely replaced by the offspring\n",
        "        pop[:] = offspring\n",
        "        sys.snapshot(f\"snapshot_{g}.csv\")\n",
        "\n",
        "\n",
        "    print(\"-- End of (successful) evolution --\")\n",
        "    sys.snapshot(\"final_snapshot.csv\")\n",
        "\n",
        "\n",
        "evolve()"
      ],
      "metadata": {
        "colab": {
          "base_uri": "https://localhost:8080/"
        },
        "id": "qXpUT0J1_xVY",
        "outputId": "b8fd5645-2ba3-4e16-a797-4162ee982054"
      },
      "id": "qXpUT0J1_xVY",
      "execution_count": 6,
      "outputs": [
        {
          "output_type": "stream",
          "name": "stdout",
          "text": [
            "Start of evolution\n",
            "  Evaluated 5 individuals\n",
            "-- Generation 1 --\n",
            "  Evaluated 2 individuals\n",
            "-- Generation 2 --\n",
            "  Evaluated 3 individuals\n",
            "-- Generation 3 --\n",
            "  Evaluated 4 individuals\n",
            "-- Generation 4 --\n",
            "  Evaluated 4 individuals\n",
            "-- Generation 5 --\n",
            "  Evaluated 3 individuals\n",
            "-- Generation 6 --\n",
            "  Evaluated 4 individuals\n",
            "-- Generation 7 --\n",
            "  Evaluated 3 individuals\n",
            "-- Generation 8 --\n",
            "  Evaluated 3 individuals\n",
            "-- Generation 9 --\n",
            "  Evaluated 1 individuals\n",
            "-- Generation 10 --\n",
            "  Evaluated 4 individuals\n",
            "-- Generation 11 --\n",
            "  Evaluated 2 individuals\n",
            "-- Generation 12 --\n",
            "  Evaluated 2 individuals\n",
            "-- Generation 13 --\n",
            "  Evaluated 2 individuals\n",
            "-- Generation 14 --\n",
            "  Evaluated 1 individuals\n",
            "-- Generation 15 --\n",
            "  Evaluated 2 individuals\n",
            "-- Generation 16 --\n",
            "  Evaluated 2 individuals\n",
            "-- Generation 17 --\n",
            "  Evaluated 2 individuals\n",
            "-- Generation 18 --\n",
            "  Evaluated 2 individuals\n",
            "-- Generation 19 --\n",
            "  Evaluated 0 individuals\n",
            "-- Generation 20 --\n",
            "  Evaluated 3 individuals\n",
            "-- Generation 21 --\n",
            "  Evaluated 3 individuals\n",
            "-- Generation 22 --\n",
            "  Evaluated 2 individuals\n",
            "-- Generation 23 --\n",
            "  Evaluated 3 individuals\n",
            "-- Generation 24 --\n",
            "  Evaluated 2 individuals\n",
            "-- Generation 25 --\n",
            "  Evaluated 2 individuals\n",
            "-- Generation 26 --\n",
            "  Evaluated 3 individuals\n",
            "-- Generation 27 --\n",
            "  Evaluated 5 individuals\n",
            "-- Generation 28 --\n",
            "  Evaluated 1 individuals\n",
            "-- Generation 29 --\n",
            "  Evaluated 4 individuals\n",
            "-- Generation 30 --\n",
            "  Evaluated 2 individuals\n",
            "-- Generation 31 --\n",
            "  Evaluated 2 individuals\n",
            "-- Generation 32 --\n",
            "  Evaluated 3 individuals\n",
            "-- Generation 33 --\n",
            "  Evaluated 4 individuals\n",
            "-- Generation 34 --\n",
            "  Evaluated 2 individuals\n",
            "-- Generation 35 --\n",
            "  Evaluated 4 individuals\n",
            "-- Generation 36 --\n",
            "  Evaluated 3 individuals\n",
            "-- Generation 37 --\n",
            "  Evaluated 2 individuals\n",
            "-- Generation 38 --\n",
            "  Evaluated 2 individuals\n",
            "-- Generation 39 --\n",
            "  Evaluated 3 individuals\n",
            "-- Generation 40 --\n",
            "  Evaluated 1 individuals\n",
            "-- Generation 41 --\n",
            "  Evaluated 3 individuals\n",
            "-- Generation 42 --\n",
            "  Evaluated 3 individuals\n",
            "-- Generation 43 --\n",
            "  Evaluated 1 individuals\n",
            "-- Generation 44 --\n",
            "  Evaluated 3 individuals\n",
            "-- Generation 45 --\n",
            "  Evaluated 2 individuals\n",
            "-- Generation 46 --\n",
            "  Evaluated 4 individuals\n",
            "-- Generation 47 --\n",
            "  Evaluated 4 individuals\n",
            "-- Generation 48 --\n",
            "  Evaluated 5 individuals\n",
            "-- Generation 49 --\n",
            "  Evaluated 3 individuals\n",
            "-- Generation 50 --\n",
            "  Evaluated 3 individuals\n",
            "-- Generation 51 --\n",
            "  Evaluated 4 individuals\n",
            "-- Generation 52 --\n",
            "  Evaluated 1 individuals\n",
            "-- Generation 53 --\n",
            "  Evaluated 2 individuals\n",
            "-- Generation 54 --\n",
            "  Evaluated 3 individuals\n",
            "-- Generation 55 --\n",
            "  Evaluated 1 individuals\n",
            "-- Generation 56 --\n",
            "  Evaluated 1 individuals\n",
            "-- Generation 57 --\n",
            "  Evaluated 0 individuals\n",
            "-- Generation 58 --\n",
            "  Evaluated 1 individuals\n",
            "-- Generation 59 --\n",
            "  Evaluated 4 individuals\n",
            "-- Generation 60 --\n",
            "  Evaluated 1 individuals\n",
            "-- Generation 61 --\n",
            "  Evaluated 1 individuals\n",
            "-- Generation 62 --\n",
            "  Evaluated 2 individuals\n",
            "-- Generation 63 --\n",
            "  Evaluated 4 individuals\n",
            "-- Generation 64 --\n",
            "  Evaluated 3 individuals\n",
            "-- Generation 65 --\n",
            "  Evaluated 3 individuals\n",
            "-- Generation 66 --\n",
            "  Evaluated 3 individuals\n",
            "-- Generation 67 --\n",
            "  Evaluated 0 individuals\n",
            "-- Generation 68 --\n",
            "  Evaluated 3 individuals\n",
            "-- Generation 69 --\n",
            "  Evaluated 1 individuals\n",
            "-- Generation 70 --\n",
            "  Evaluated 3 individuals\n",
            "-- Generation 71 --\n",
            "  Evaluated 3 individuals\n",
            "-- Generation 72 --\n",
            "  Evaluated 1 individuals\n",
            "-- Generation 73 --\n",
            "  Evaluated 3 individuals\n",
            "-- Generation 74 --\n",
            "  Evaluated 4 individuals\n",
            "-- Generation 75 --\n",
            "  Evaluated 3 individuals\n",
            "-- Generation 76 --\n",
            "  Evaluated 4 individuals\n",
            "-- Generation 77 --\n",
            "  Evaluated 5 individuals\n",
            "-- Generation 78 --\n",
            "  Evaluated 3 individuals\n",
            "-- Generation 79 --\n",
            "  Evaluated 1 individuals\n",
            "-- Generation 80 --\n",
            "  Evaluated 3 individuals\n",
            "-- Generation 81 --\n",
            "  Evaluated 2 individuals\n",
            "-- Generation 82 --\n",
            "  Evaluated 4 individuals\n",
            "-- Generation 83 --\n",
            "  Evaluated 3 individuals\n",
            "-- Generation 84 --\n",
            "  Evaluated 4 individuals\n",
            "-- Generation 85 --\n",
            "  Evaluated 3 individuals\n",
            "-- Generation 86 --\n",
            "  Evaluated 3 individuals\n",
            "-- Generation 87 --\n",
            "  Evaluated 2 individuals\n",
            "-- Generation 88 --\n",
            "  Evaluated 3 individuals\n",
            "-- Generation 89 --\n",
            "  Evaluated 2 individuals\n",
            "-- Generation 90 --\n",
            "  Evaluated 1 individuals\n",
            "-- Generation 91 --\n",
            "  Evaluated 1 individuals\n",
            "-- Generation 92 --\n",
            "  Evaluated 3 individuals\n",
            "-- Generation 93 --\n",
            "  Evaluated 2 individuals\n",
            "-- Generation 94 --\n",
            "  Evaluated 2 individuals\n",
            "-- Generation 95 --\n",
            "  Evaluated 4 individuals\n",
            "-- Generation 96 --\n",
            "  Evaluated 0 individuals\n",
            "-- Generation 97 --\n",
            "  Evaluated 2 individuals\n",
            "-- Generation 98 --\n",
            "  Evaluated 4 individuals\n",
            "-- Generation 99 --\n",
            "  Evaluated 2 individuals\n",
            "-- Generation 100 --\n",
            "  Evaluated 3 individuals\n",
            "-- End of (successful) evolution --\n"
          ]
        },
        {
          "output_type": "stream",
          "name": "stderr",
          "text": [
            "/usr/local/lib/python3.10/dist-packages/deap/creator.py:185: RuntimeWarning: A class named 'FitnessMax' has already been created and it will be overwritten. Consider deleting previous creation of that class or rename it.\n",
            "  warnings.warn(\"A class named '{0}' has already been created and it \"\n",
            "/usr/local/lib/python3.10/dist-packages/deap/creator.py:185: RuntimeWarning: A class named 'Individual' has already been created and it will be overwritten. Consider deleting previous creation of that class or rename it.\n",
            "  warnings.warn(\"A class named '{0}' has already been created and it \"\n"
          ]
        }
      ]
    },
    {
      "cell_type": "code",
      "source": [
        "!cat snapshot.csv"
      ],
      "metadata": {
        "colab": {
          "base_uri": "https://localhost:8080/"
        },
        "id": "8adROH77UmEk",
        "outputId": "3db30820-773b-4c0b-b3e4-8c9f18408dd1"
      },
      "id": "8adROH77UmEk",
      "execution_count": 5,
      "outputs": [
        {
          "output_type": "stream",
          "name": "stdout",
          "text": [
            "id,ancestor_list,origin_time,destruction_time,num_orgs,tot_orgs,num_offspring,total_offspring,depth,Genome\n",
            "107,[35],100,inf,1,1,0,0,4,[1 1 1 1 0 1 0 1 1 1]\n",
            "106,[35],100,inf,1,1,0,0,4,[1 1 1 1 1 1 0 1 1 1]\n",
            "35,[14],33,inf,3,249,2,2,3,[1 1 1 1 1 1 1 1 1 1]\n",
            "14,[9],6,36,0,104,1,3,2,[1 1 1 1 1 1 0 1 1 1]\n",
            "9,[4],4,8,0,5,1,3,1,[1 1 1 1 1 0 0 1 0 1]\n",
            "4,[\"NONE\"],0,5,0,8,1,3,0,[1 1 1 1 1 0 0 0 0 1]\n"
          ]
        }
      ]
    }
  ],
  "metadata": {
    "kernelspec": {
      "display_name": "Python 3",
      "language": "python",
      "name": "python3"
    },
    "language_info": {
      "codemirror_mode": {
        "name": "ipython",
        "version": 3
      },
      "file_extension": ".py",
      "mimetype": "text/x-python",
      "name": "python",
      "nbconvert_exporter": "python",
      "pygments_lexer": "ipython3",
      "version": "3.10.6"
    },
    "colab": {
      "provenance": [],
      "include_colab_link": true
    }
  },
  "nbformat": 4,
  "nbformat_minor": 5
}