{
 "cells": [
   {
      "cell_type": "markdown",
      "metadata": {
        "id": "view-in-github",
        "colab_type": "text"
      },
      "source": [
        "<a href=\"https://colab.research.google.com/github/emilydolson/alife-phylogeny-tutorial/blob/main/hstrat_ping_demo.ipynb\" target=\"_parent\"><img src=\"https://colab.research.google.com/assets/colab-badge.svg\" alt=\"Open In Colab\"/></a>"
      ]
  },
  {
   "cell_type": "code",
   "execution_count": null,
   "id": "f180fff5",
   "metadata": {},
   "outputs": [],
   "source": [
    "# set up environment\n",
    "!find . -name . -o -prune -exec rm -rf -- {} +\n",
    "!git init\n",
    "!git remote add origin https://github.com/mmore500/alife-phylogeny-tutorial.git\n",
    "!git pull origin main\n",
    "!python3 -m pip install -r requirements.txt"
   ]
  },
  {
   "cell_type": "code",
   "execution_count": null,
   "id": "0bb0c853",
   "metadata": {},
   "outputs": [],
   "source": [
    "import random\n",
    "import string\n",
    "import typing\n",
    "\n",
    "import alifedata_phyloinformatics_convert as apc\n",
    "from hstrat import hstrat\n",
    "import pandas as pd\n",
    "import typing_extensions\n",
    "from tqdm import tqdm\n",
    "\n",
    "import pylib  # local Python library @ ./pylib/"
   ]
  },
  {
   "cell_type": "markdown",
   "id": "a7a1a162",
   "metadata": {},
   "source": [
    "# Configure Parameters"
   ]
  },
  {
   "cell_type": "code",
   "execution_count": null,
   "id": "8856885a",
   "metadata": {},
   "outputs": [],
   "source": [
    "# how many characters can genomes' domain string be?\n",
    "TARGET_DOMAIN_LEN: int = 4\n",
    "CHAR_MUTATE_RATE: float = 0.1\n",
    "N_POP: int = 8\n",
    "N_GEN: int = 10\n",
    "\n",
    "# how many copies can each genome make of itself\n",
    "# per reproduction event\n",
    "# i.e., how many outgoing pings to send at once\n",
    "PING_COPY_COUNT: int = 2\n",
    "\n",
    "# use 1 byte differentia values for hstrat instrumentation\n",
    "DIFFERENTIA_BIT_WIDTH: int = 8"
   ]
  },
  {
   "cell_type": "markdown",
   "id": "efd1f4d4",
   "metadata": {},
   "source": [
    "# Choose Retention Policy"
   ]
  },
  {
   "cell_type": "code",
   "execution_count": null,
   "id": "315ab1ce",
   "metadata": {},
   "outputs": [],
   "source": [
    "# suppose a 32 byte size budget for ping payload...\n",
    "# how big can our hstrat column be?\n",
    "#\n",
    "# with 4 bytes for target domain string\n",
    "# and 4 bytes for generation counter\n",
    "#\n",
    "# 24 bytes left...\n",
    "# so @ 1 byte per differentia,\n",
    "# we can accomodate up to 24 differentia\n",
    "\n",
    "# curbed recency-proportional resolution\n",
    "# stratum retention algorithm\n",
    "# is a good go-to choice for space-constrained\n",
    "# evolutionary applications of hstrat\n",
    "ping_stratum_retention_policy = (\n",
    "    hstrat.recency_proportional_resolution_curbed_algo.Policy(\n",
    "        size_curb=24,  # max num differentia retained at any one time\n",
    "    )\n",
    ")"
   ]
  },
  {
   "cell_type": "markdown",
   "id": "6fcc17ae",
   "metadata": {},
   "source": [
    "# Define Genome\n"
   ]
  },
  {
   "cell_type": "code",
   "execution_count": null,
   "id": "9aed8673",
   "metadata": {},
   "outputs": [],
   "source": [
    "class PingGenome:\n",
    "\n",
    "    # where to ping this genome against\n",
    "    target_domain: str\n",
    "\n",
    "    # instrumentation to facilitate phylogenetic inference\n",
    "    hstrat_column: hstrat.HereditaryStratigraphicColumn\n",
    "\n",
    "    def __init__(\n",
    "        self: \"PingGenome\",\n",
    "        target_domain: typing.Optional[str] = None,\n",
    "        hstrat_column: typing.Optional = None,\n",
    "    ):\n",
    "        if target_domain is None:\n",
    "            # create random target domain\n",
    "            target_domain = \"\".join(\n",
    "                random.choice(string.ascii_lowercase)\n",
    "                for __ in range(TARGET_DOMAIN_LEN)\n",
    "            )\n",
    "        self.target_domain = target_domain\n",
    "\n",
    "        if hstrat_column is None:\n",
    "            self.hstrat_column = hstrat.HereditaryStratigraphicColumn(\n",
    "                # stratum_retention_policy: typing.Any\n",
    "                # Policy struct that specifies the set of strata ranks\n",
    "                # that should be pruned from a hereditary\n",
    "                # stratigraphic column when the nth stratum is deposited.\n",
    "                stratum_retention_policy=ping_stratum_retention_policy,\n",
    "                # always_store_rank_in_stratum : bool, optional\n",
    "                # Should the deposition rank be stored as a data member of generated\n",
    "                # strata, even if not strictly necessary?\n",
    "                always_store_rank_in_stratum=False,\n",
    "                # stratum_differentia_bit_width : int, optional\n",
    "                # The bit width of the generated differentia. Default 64, allowing\n",
    "                # for 2^64 distinct values.\n",
    "                stratum_differentia_bit_width=DIFFERENTIA_BIT_WIDTH,\n",
    "            )\n",
    "        else:\n",
    "            self.hstrat_column = hstrat_column\n",
    "\n",
    "    def mutate(self: \"PingGenome\") -> None:\n",
    "        # for each target_domain character,\n",
    "        # apply a scramble event with CHAR_MUTATE_RATE probability\n",
    "        self.target_domain = \"\".join(\n",
    "            random.choice(string.ascii_lowercase)\n",
    "            if random.random() < CHAR_MUTATE_RATE\n",
    "            else char\n",
    "            for char in self.target_domain\n",
    "        )\n",
    "\n",
    "    def create_offspring(self: \"PingGenome\") -> \"PingGenome\":\n",
    "        offspring = PingGenome(\n",
    "            target_domain=self.target_domain,  # inherit target_domain\n",
    "            hstrat_column=(\n",
    "                # register elapsed generation w/ hstrat instrumentation,\n",
    "                # then pass instrumentation along to offspring\n",
    "                self.hstrat_column.CloneDescendant()\n",
    "            ),\n",
    "        )\n",
    "        offspring.mutate()  # mutate target_domain\n",
    "        return offspring\n",
    "\n",
    "    def to_packet(self: \"PingGenome\") -> typing_extensions.Buffer:\n",
    "        # serialize genome to a binary string\n",
    "        # that can be transmitted within ping payload\n",
    "        annotation_packet_bytes = hstrat.col_to_packet(self.hstrat_column)\n",
    "        return self.target_domain.encode() + annotation_packet_bytes\n",
    "\n",
    "    @staticmethod\n",
    "    def from_packet(data: typing_extensions.Buffer) -> \"PingGenome\":\n",
    "        # deserialize genome from a binary string\n",
    "        # i.e., extracted from a ping payload\n",
    "\n",
    "        # first TARGET_DOMAIN_LEN bytes are target_domain string\n",
    "        target_domain = data[:TARGET_DOMAIN_LEN].decode()\n",
    "\n",
    "        # all the rest is the hstrat instrumentation\n",
    "        hstrat_column = hstrat.col_from_packet_buffer(\n",
    "            packet_buffer=data[TARGET_DOMAIN_LEN:],\n",
    "            differentia_bit_width=DIFFERENTIA_BIT_WIDTH,\n",
    "            stratum_retention_policy=ping_stratum_retention_policy,\n",
    "        )\n",
    "\n",
    "        # put deserialized components together into a genome object\n",
    "        return PingGenome(\n",
    "            target_domain=target_domain,\n",
    "            hstrat_column=hstrat_column,\n",
    "        )"
   ]
  },
  {
   "cell_type": "markdown",
   "id": "fd9a0329",
   "metadata": {},
   "source": [
    "# Define Selection"
   ]
  },
  {
   "cell_type": "code",
   "execution_count": null,
   "id": "9fbf0dce",
   "metadata": {},
   "outputs": [],
   "source": [
    "# process one generation of evolution\n",
    "# on a population of PingGenome's\n",
    "# and return \"winning\" offspring who made it back first\n",
    "# as the next population\n",
    "def elapse_generation(\n",
    "    population: typing.List[PingGenome],\n",
    ") -> typing.List[PingGenome]:\n",
    "\n",
    "    # manages socket resources, etc.\n",
    "    pinger = pylib.PayloadPinger()\n",
    "\n",
    "    # loop until we get enough packets back\n",
    "    # to fill next population to same size as current population\n",
    "    next_population_packets: typing.List[typing_extensions.Buffer] = []\n",
    "    while len(next_population_packets) < len(population):\n",
    "\n",
    "        # how many more packets do we need?\n",
    "        num_empty_next_population_slots = len(population) - len(\n",
    "            next_population_packets\n",
    "        )\n",
    "\n",
    "        # dispatch ping requests\n",
    "        for __ in range(num_empty_next_population_slots):\n",
    "\n",
    "            # selection is random among current population\n",
    "            selection = random.choice(population)\n",
    "            # create several offspring and dispatch into ping payloads\n",
    "            for __ in range(PING_COPY_COUNT):\n",
    "                # create_offspring makes genome copy, applies mutation,\n",
    "                # & registers elapsed generation w/ hstrat instrumentaiton\n",
    "                offspring = selection.create_offspring()\n",
    "\n",
    "                # figure out where offspring points to\n",
    "                # and dispatch it as a ping payload\n",
    "                target_url = offspring.target_domain + \".com\"\n",
    "                pinger.send(target_url, offspring.to_packet())\n",
    "                # log request event\n",
    "                print(f\"---> packet sent to {target_url}\")\n",
    "\n",
    "        # collect all available ping responses\n",
    "        # & extact their payloads into next_population_packets\n",
    "        # until we have enough packets for next population\n",
    "        while len(next_population_packets) < len(population):\n",
    "\n",
    "            maybe_packet = pinger.read()\n",
    "            if maybe_packet is None:\n",
    "                break  # no more ping responses to read right now\n",
    "            else:\n",
    "                next_population_packets.append(maybe_packet)\n",
    "\n",
    "            # log response event\n",
    "            packet_domain = maybe_packet[:TARGET_DOMAIN_LEN].decode()\n",
    "            print(f\" <=== packet returned from {packet_domain}\")\n",
    "\n",
    "    # deserialize packets back into genome objects\n",
    "    next_population: typing.List[PingGenome] = [\n",
    "        PingGenome.from_packet(packet) for packet in next_population_packets\n",
    "    ]\n",
    "    return next_population"
   ]
  },
  {
   "cell_type": "markdown",
   "id": "2848a5f2",
   "metadata": {},
   "source": [
    "# Do Evolution"
   ]
  },
  {
   "cell_type": "code",
   "execution_count": null,
   "id": "2c1449cc",
   "metadata": {
    "scrolled": false
   },
   "outputs": [],
   "source": [
    "# create a common ancestor\n",
    "common_ancestor = PingGenome()\n",
    "\n",
    "# initialize population with offspring of common ancestor\n",
    "population = [common_ancestor.create_offspring() for __ in range(N_POP)]\n",
    "\n",
    "# update population N_GEN times\n",
    "for __ in tqdm(range(N_GEN)):\n",
    "    population = elapse_generation(population)"
   ]
  },
  {
   "cell_type": "markdown",
   "id": "29aec55b",
   "metadata": {},
   "source": [
    "# Extract Annotations and Build Tree"
   ]
  },
  {
   "cell_type": "code",
   "execution_count": null,
   "id": "4b7e84e0",
   "metadata": {},
   "outputs": [],
   "source": [
    "# hstrat instrumentation from population at end of simulation\n",
    "extant_annotations = [\n",
    "    # extract hstrat columns from genomes\n",
    "    # & freeze dynamic instrumentation as \"specimens,\"\n",
    "    # which are optimized for postprocessing analysis\n",
    "    hstrat.col_to_specimen(genome.hstrat_column)\n",
    "    for genome in population\n",
    "]\n",
    "\n",
    "# estimated_phylogeny is stored in alife data standards format\n",
    "# https://alife-data-standards.github.io/alife-data-standards/phylogeny.html\n",
    "estimated_phylogeny: pd.DataFrame = hstrat.build_tree(\n",
    "    population=extant_annotations,\n",
    "    taxon_labels=[genome.target_domain for genome in population],\n",
    "    # the `build_tree` function tracks the current best-known general\n",
    "    # purpose reconstruction algorithm\n",
    "    # pin to the current version (e.g., \"1.7.2\") for long-term stability\n",
    "    # or pin to hstrat.__version__ to track latest algorithm updates\n",
    "    version_pin=hstrat.__version__,\n",
    ")"
   ]
  },
  {
   "cell_type": "markdown",
   "id": "54799cb0",
   "metadata": {},
   "source": [
    "# Visualize Phylogeny"
   ]
  },
  {
   "cell_type": "code",
   "execution_count": null,
   "id": "fea2a097",
   "metadata": {},
   "outputs": [],
   "source": [
    "# translate to dendropy (which provides lots of phylogenetics tools)\n",
    "# via alifedata phyloinformatics conversion tool\n",
    "dendropy_tree = apc.alife_dataframe_to_dendropy_tree(\n",
    "    estimated_phylogeny,\n",
    "    setup_edge_lengths=True,\n",
    ")\n",
    "\n",
    "# draw the reconstruction!\n",
    "print(dendropy_tree.as_ascii_plot(plot_metric=\"age\"))"
   ]
  },
  {
   "cell_type": "code",
   "execution_count": null,
   "id": "71725bfb",
   "metadata": {},
   "outputs": [],
   "source": []
  }
 ],
 "metadata": {
  "kernelspec": {
   "display_name": "Python 3",
   "language": "python",
   "name": "python3"
  },
  "language_info": {
   "codemirror_mode": {
    "name": "ipython",
    "version": 3
   },
   "file_extension": ".py",
   "mimetype": "text/x-python",
   "name": "python",
   "nbconvert_exporter": "python",
   "pygments_lexer": "ipython3",
   "version": "3.10.6"
  }
 },
 "nbformat": 4,
 "nbformat_minor": 5
}
